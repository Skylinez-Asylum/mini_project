{
 "cells": [
  {
   "cell_type": "code",
   "execution_count": 1,
   "metadata": {
    "metadata": {}
   },
   "outputs": [],
   "source": [
    "import numpy as np # linear algebra\n",
    "import pandas as pd "
   ]
  },
  {
   "cell_type": "code",
   "execution_count": 2,
   "metadata": {
    "metadata": {}
   },
   "outputs": [],
   "source": [
    "df = pd.read_csv(\"second.csv\", encoding=\"ISO-8859-1\")"
   ]
  },
  {
   "cell_type": "code",
   "execution_count": 3,
   "metadata": {
    "metadata": {}
   },
   "outputs": [
    {
     "data": {
      "text/html": [
       "<div>\n",
       "<style scoped>\n",
       "    .dataframe tbody tr th:only-of-type {\n",
       "        vertical-align: middle;\n",
       "    }\n",
       "\n",
       "    .dataframe tbody tr th {\n",
       "        vertical-align: top;\n",
       "    }\n",
       "\n",
       "    .dataframe thead th {\n",
       "        text-align: right;\n",
       "    }\n",
       "</style>\n",
       "<table border=\"1\" class=\"dataframe\">\n",
       "  <thead>\n",
       "    <tr style=\"text-align: right;\">\n",
       "      <th></th>\n",
       "      <th>target</th>\n",
       "      <th>count</th>\n",
       "    </tr>\n",
       "  </thead>\n",
       "  <tbody>\n",
       "    <tr>\n",
       "      <th>0</th>\n",
       "      <td>0</td>\n",
       "      <td>50000</td>\n",
       "    </tr>\n",
       "    <tr>\n",
       "      <th>1</th>\n",
       "      <td>1</td>\n",
       "      <td>50000</td>\n",
       "    </tr>\n",
       "  </tbody>\n",
       "</table>\n",
       "</div>"
      ],
      "text/plain": [
       "   target  count\n",
       "0       0  50000\n",
       "1       1  50000"
      ]
     },
     "execution_count": 3,
     "metadata": {},
     "output_type": "execute_result"
    }
   ],
   "source": [
    "target_df = df['target'].value_counts().reset_index()\n",
    "target_df"
   ]
  },
  {
   "cell_type": "code",
   "execution_count": 4,
   "metadata": {
    "metadata": {}
   },
   "outputs": [],
   "source": [
    "save_loc = '/home/arjun/Desktop/skylinez/SaveWeak1__epoch20/'"
   ]
  },
  {
   "cell_type": "code",
   "execution_count": 5,
   "metadata": {
    "metadata": {}
   },
   "outputs": [
    {
     "data": {
      "text/plain": [
       "device(type='cuda')"
      ]
     },
     "execution_count": 5,
     "metadata": {},
     "output_type": "execute_result"
    }
   ],
   "source": [
    "import torch\n",
    "device = torch.device('cuda' if torch.cuda.is_available() else 'cpu')\n",
    "device"
   ]
  },
  {
   "cell_type": "code",
   "execution_count": 6,
   "metadata": {
    "metadata": {}
   },
   "outputs": [],
   "source": [
    "import torch\n",
    "from torch.utils.data import DataLoader, Dataset\n",
    "from transformers import GPT2Tokenizer,GPT2ForSequenceClassification\n"
   ]
  },
  {
   "cell_type": "code",
   "execution_count": 7,
   "metadata": {
    "metadata": {}
   },
   "outputs": [],
   "source": [
    "tokenizer = GPT2Tokenizer.from_pretrained(save_loc)\n",
    "model = GPT2ForSequenceClassification.from_pretrained(save_loc)\n",
    "tokenizer.pad_token = tokenizer.eos_token\n",
    "model.config.pad_token_id = model.config.eos_token_id"
   ]
  },
  {
   "cell_type": "code",
   "execution_count": 8,
   "metadata": {
    "metadata": {}
   },
   "outputs": [
    {
     "name": "stdout",
     "output_type": "stream",
     "text": [
      "100000\n",
      "tensor([[ 5812, 12191,   670,  ..., 50256, 50256, 50256],\n",
      "        [  271,  2710,  1710,  ..., 50256, 50256, 50256],\n",
      "        [16371, 25602,   546,  ..., 50256, 50256, 50256],\n",
      "        ...,\n",
      "        [18690,   494,   466,  ..., 50256, 50256, 50256],\n",
      "        [43952,   262, 11658,  ..., 50256, 50256, 50256],\n",
      "        [ 4366,   279,   489,  ..., 50256, 50256, 50256]]) tensor([[1, 1, 1,  ..., 0, 0, 0],\n",
      "        [1, 1, 1,  ..., 0, 0, 0],\n",
      "        [1, 1, 1,  ..., 0, 0, 0],\n",
      "        ...,\n",
      "        [1, 1, 1,  ..., 0, 0, 0],\n",
      "        [1, 1, 1,  ..., 0, 0, 0],\n",
      "        [1, 1, 1,  ..., 0, 0, 0]])\n"
     ]
    }
   ],
   "source": [
    "text=df['text']\n",
    "print(len(text))\n",
    "text = text.tolist()\n",
    "encoded_texts = tokenizer(text,padding=True,truncation=True,return_tensors='pt')\n",
    "input_ids = encoded_texts['input_ids']\n",
    "attention_mask = encoded_texts['attention_mask']\n",
    "print(input_ids,attention_mask)"
   ]
  },
  {
   "cell_type": "code",
   "execution_count": 9,
   "metadata": {
    "metadata": {}
   },
   "outputs": [
    {
     "name": "stdout",
     "output_type": "stream",
     "text": [
      "100000\n"
     ]
    }
   ],
   "source": [
    "print(len(text))\n"
   ]
  },
  {
   "cell_type": "code",
   "execution_count": 10,
   "metadata": {
    "metadata": {}
   },
   "outputs": [
    {
     "name": "stdout",
     "output_type": "stream",
     "text": [
      "100000\n"
     ]
    }
   ],
   "source": [
    "target=df['target']\n",
    "print(len(target))\n",
    "from torch.utils.data import Dataset, DataLoader\n",
    "\n",
    "class IMDBDataset(Dataset):\n",
    "    def __init__(self,input_ids,attention_mask,labels, text):\n",
    "        self.input_ids=input_ids\n",
    "        self.attention_mask=attention_mask\n",
    "        self.labels=labels\n",
    "        self.text = text\n",
    "        \n",
    "    def __len__(self):\n",
    "        return len(self.input_ids)\n",
    "    \n",
    "    def __getitem__(self,idx):\n",
    "        return self.input_ids[idx],self.attention_mask[idx],self.labels[idx], self.text[idx]"
   ]
  },
  {
   "cell_type": "code",
   "execution_count": 11,
   "metadata": {
    "metadata": {}
   },
   "outputs": [
    {
     "name": "stdout",
     "output_type": "stream",
     "text": [
      "100000\n"
     ]
    },
    {
     "data": {
      "text/plain": [
       "200"
      ]
     },
     "execution_count": 11,
     "metadata": {},
     "output_type": "execute_result"
    }
   ],
   "source": [
    "dataset = IMDBDataset(input_ids,attention_mask,torch.tensor(target.values,dtype=torch.float), text)\n",
    "print(len(dataset))\n",
    "dataloader = DataLoader(dataset,batch_size=500,shuffle=True)\n",
    "len(dataloader)"
   ]
  },
  {
   "cell_type": "code",
   "execution_count": null,
   "metadata": {},
   "outputs": [],
   "source": []
  },
  {
   "cell_type": "code",
   "execution_count": 12,
   "metadata": {
    "metadata": {}
   },
   "outputs": [
    {
     "name": "stdout",
     "output_type": "stream",
     "text": [
      "tensor([[ 1820,  4998,  1110,  ..., 50256, 50256, 50256],\n",
      "        [  271,  4203,  7650,  ..., 50256, 50256, 50256],\n",
      "        [13128,   286,   257,  ..., 50256, 50256, 50256],\n",
      "        ...,\n",
      "        [10723,   278, 10452,  ..., 50256, 50256, 50256],\n",
      "        [ 5305,  1143,   299,  ..., 50256, 50256, 50256],\n",
      "        [   31,    42, 23225,  ..., 50256, 50256, 50256]])\n",
      "\n",
      "tensor([[1, 1, 1,  ..., 0, 0, 0],\n",
      "        [1, 1, 1,  ..., 0, 0, 0],\n",
      "        [1, 1, 1,  ..., 0, 0, 0],\n",
      "        ...,\n",
      "        [1, 1, 1,  ..., 0, 0, 0],\n",
      "        [1, 1, 1,  ..., 0, 0, 0],\n",
      "        [1, 1, 1,  ..., 0, 0, 0]])\n",
      "\n",
      "tensor([0., 0., 0., 1., 1., 0., 0., 1., 1., 0., 0., 1., 1., 1., 0., 1., 0., 0.,\n",
      "        0., 1., 1., 1., 1., 0., 1., 1., 0., 0., 1., 1., 0., 1., 0., 0., 0., 1.,\n",
      "        0., 1., 1., 0., 0., 1., 0., 0., 1., 0., 1., 0., 0., 1., 1., 0., 1., 0.,\n",
      "        0., 1., 0., 0., 0., 0., 0., 1., 0., 1., 0., 1., 1., 0., 0., 0., 1., 1.,\n",
      "        1., 0., 1., 0., 1., 0., 1., 1., 0., 1., 1., 1., 1., 0., 0., 0., 0., 1.,\n",
      "        0., 1., 1., 1., 0., 0., 0., 0., 0., 1., 0., 0., 1., 0., 0., 0., 1., 1.,\n",
      "        0., 0., 0., 1., 1., 1., 1., 0., 0., 0., 0., 1., 0., 1., 0., 1., 0., 0.,\n",
      "        0., 0., 0., 1., 1., 0., 0., 0., 0., 0., 1., 0., 0., 0., 1., 1., 0., 0.,\n",
      "        1., 1., 0., 0., 1., 1., 0., 1., 0., 1., 1., 0., 1., 0., 0., 1., 0., 0.,\n",
      "        1., 1., 0., 1., 0., 1., 0., 1., 0., 0., 0., 1., 0., 0., 1., 0., 0., 0.,\n",
      "        0., 0., 1., 0., 1., 1., 1., 1., 1., 0., 0., 0., 0., 0., 1., 0., 0., 0.,\n",
      "        0., 1., 0., 0., 0., 0., 0., 0., 0., 0., 1., 1., 0., 1., 1., 1., 1., 0.,\n",
      "        0., 0., 1., 1., 1., 0., 1., 1., 1., 1., 0., 1., 0., 1., 0., 1., 1., 0.,\n",
      "        1., 1., 1., 0., 1., 0., 1., 0., 1., 1., 0., 1., 0., 0., 1., 1., 0., 1.,\n",
      "        1., 1., 0., 1., 0., 1., 1., 1., 0., 1., 0., 1., 1., 0., 0., 0., 0., 1.,\n",
      "        1., 1., 1., 1., 1., 0., 0., 1., 0., 1., 0., 1., 0., 0., 0., 0., 0., 0.,\n",
      "        1., 1., 0., 0., 1., 0., 0., 1., 0., 1., 1., 0., 0., 0., 1., 1., 1., 1.,\n",
      "        0., 0., 1., 1., 1., 0., 1., 1., 0., 0., 0., 0., 0., 1., 1., 0., 1., 1.,\n",
      "        1., 0., 1., 1., 0., 1., 1., 1., 0., 0., 1., 0., 0., 0., 1., 0., 0., 1.,\n",
      "        0., 1., 1., 0., 0., 1., 0., 0., 1., 0., 1., 0., 1., 1., 0., 0., 0., 1.,\n",
      "        0., 1., 0., 1., 1., 0., 1., 1., 1., 1., 0., 0., 0., 1., 1., 0., 1., 1.,\n",
      "        1., 0., 0., 0., 0., 1., 0., 0., 0., 0., 0., 1., 0., 1., 0., 0., 0., 1.,\n",
      "        1., 1., 0., 1., 1., 1., 0., 0., 1., 0., 0., 0., 1., 1., 1., 1., 0., 0.,\n",
      "        1., 0., 0., 0., 0., 0., 1., 0., 1., 1., 0., 1., 0., 1., 1., 1., 1., 0.,\n",
      "        0., 0., 1., 0., 0., 0., 0., 1., 0., 0., 1., 0., 0., 0., 1., 1., 0., 1.,\n",
      "        0., 0., 1., 1., 1., 0., 0., 0., 1., 1., 1., 0., 1., 0., 1., 0., 0., 1.,\n",
      "        1., 0., 0., 1., 1., 1., 0., 1., 0., 1., 0., 0., 0., 0., 1., 0., 0., 1.,\n",
      "        1., 1., 1., 0., 0., 1., 0., 1., 0., 0., 1., 0., 0., 1.])\n",
      "\n",
      "('my amazing day just got completely ruined ', 'is feeling weirdly emotional about something that should not spark any emotion at all.  Not good emotions either. Sad ones. ', 'Bit of a setback, now on antibiotics ', '@CuzImSOOOCool lol..yeaa baby..ive always longed for u ', '@zacharyxbinks  where ya going!? ', 'Oh my, I dnt feel good.  I just woke up and threw uppp   FML.', \"The past 24 hours have been completely amazing....please don't make an end come to them \", '@meghankathleen that is what I heard, August especially, oh well both are still great cities so its worth it ', \"@MartaLamovsek Thanx! ) And next weekend : vcast from Paris ;) Can't wait! \", '@tommcfly hi tom! I miss when you spoke Portuguese in google translate! I love you so much man! Please, answer me! I need you man!  xx', 'hanging out wit mac attack at the campground fixing to do something...wishing my bf would talk to me ', \"@msayson http://twitpic.com/4exqm - Hey my little brother's there for PG percussion! \", '@wyclef Do it!! Also, follow me.  ', '@alannahrosecard A wheely-moo.  Or fantastic wooden trike and trailer (in suitable girly colours) from the ELC ', \"@katjrobertson You'll have to re-upload your video. YouTube took it down because it was too long. \", 'ready for a day of rest and studying... not excited.. but have a great day to everyone else! ', 'Bad storms ', 'So not ready for a day of studying pharm  good thing i have some little pink friends to help meee', 'My BB battery is low ', '@alexwilliams12 life is what you make it ', \"@fatlaces hmm let's try for 1lb for each day but i could settle for 2 \", '@PerezHilton  cleaning can be fun.. I have never experienced it being fun but I have heard it can be.  have a great night', '@JSpikEThinG  The &quot;anti&quot; rhetoric has become absurd. &quot;the storm is coming.&quot; Really? Is this revelations? Does &quot;storm&quot; mean &quot;gays?&quot;', 'Work till 330. ', '@nbeurkens Thanks Nicole! ', 'Back from town, got a t-shirt from Topshop and some sandshoesss ', 'is loving the new throwback jamz channel on music choice but sad cuz paris called me old for liking it... ', \"@BdotScales awwwww that wasn't nice mister  dammit... What if I fall?\", \"@davidguttman you're welcome \", \"There's something wonderful about sticking your feet out of the window of the car doing 60.  Dont worry, I'm not driving \", \"@squishymatter oh sorry about your back  Hope J gets better fast and it doesn't keep bouncing around!\", 'Happy birthday to me! ', 'That link in the last tweet should be working.  Sorry bout posting the bad link yesterday ', 'napped the whole afternoon away... ', '@katetron oh no way!!  no friggin way', \"We are in challenging times. Warren Buffet said recently that the best investment is IN YOURSELF!  Step up...don't be afraid!!! \", 'Dance recital finally over. Now to study again ', '@Bubblecrush Added you! ', \"@chespace I had no interest in that album... but, your sake suggestion may have just swayed me. You're good like that, Che. \", \"Just realised I've got a pink nose \", '&quot;please be advised that your visit to the clinic will take at least two hours&quot; - ouch ', 'is boredd. any ideas of what to do.? ', ' gah. so much less ok than i was trying to tell myself i was.', 'completely and utterly screwed for tomorrows exams. ', '@CherylH77  jet lag slowly getting better  thanks for asking....how have you been babe?', 'Getting very very frustrated with having a crap internet connection ', '@Gloson anytime young man. ', ' No More Space in me Dock (((( - Quadruple Chin FTW', '@daviesgravey LMAO Nope just the colenel this was when Babykins couldnt travel much bc of his surgery and I was always up here  1st time 2', \"I have great friends.  thanks, Faiza. You left me in the middle of a conversation. You're nicee. (:\", 'Stayin warm in my favorite hoody ', 'cat just brought me a small, struggling rodent which was flailing, but unable to get up. Worst way to wake up in the middle of the night. ', 'Got my vid up ', \"Chilly morning in Boston. I don't wanna leave! \", 'I think I have a fever. ', 'follow me i follow you ', \"have a cup of coffee then i'll start coding , what else i can do ? \", \"poor hubby has a massive migraine &amp; i don't know how to make it go away \", \"can hear fireworks... but can't see them \", \"engga  terlalu panik liat spion patah. next time i'll keep my eye stand by )\", \"@mobethsmom yeah I know.  I'm really glad hank stayed home today to let me rest. I'm very lucky.\", '@lilyroseallen happy birthday mate. Hope you have a great day ', \"is missing you sooooo much...where are you?  It's been 4 days &lt;/3\", '@SubbZ : sure why not ? ', '@hypeismyname all of your tweets lately have been about bball and I wish I knew what you were talking about ', '@annwhit @keza34 nope not a stupid question at all. I ask you guys about things all the time ', '@ a BBQ &amp; debating whether or not to have an alcoholic beverage...oh why not. ', 'Working on the blog, I never have the time to finish this  also cuz I get lazy   ', '@Imkeepingup Gone so soon? ', 'matt leaves in less than 10 hours.  will be missed', '@davegray Urban fantasy, no jousters and Kim had The Outlaw Demon Wails ', \"going to get a haircut and then check crossroads or the other vintage store on clark  it's nice in chicago (i guess)\", \"This is the finish line before the d day for my test i'll study and in 2 weeks i will talk to you guys pray for me  i love you all &lt;3\", 'going to organize my study material for class; get ready for te work week. ', 'It totally just hit me that i met The Cab. ', 't sucks how much work i have to do today! and its sunny ', '@tokiohotelusa I already have braids like Bill ', 'YAY 47 Days till McFly at Sherwood Pines, and Yes Kara, I was awake at stupid o clock yesterday. ', '@MelbaMiffle Enjoy those cupccakes!!! ', 'Twilight is coming out tomorrow!!  Soo excited. Now I have to call all my friends for a Twilight slumber party LOL', \"why don't i ever have good sundays?? \", 'snack time ', \"tweet tweet i've always wanted to do that \", 'Oh my BF called me to see if i was feeling better. How sweet ', '@isabellahoney Claire said around noonish tomorrow? Is that factual? ', 'Just woke up going to get somthing to eat the clean before mom gets home. No wow today ', 'finishing my hw i got yesterday from school since i was out sick for 3 days ', 'Wish I lived in a time where having to have 2 jobs was completely unnecessary..     (*sleepy*)', \"Ack. My throat feels awful, like I've been force-fed a grater. \", \"Pwned at Mario Kart so now I'm resting on my laurels and watching my bro and my lady fight it out \", \"Wife is in bed... all about her tomorrow. Looks like i'll have to wait to get lucky \", 'Man United 2 vs Middlesbrough 0!  The title is almost ours! Just need to give Arsenal a thrashin on Tuesday now. Come on United! ', '@englishchick hey thanks for the rt yesterday about #lovebox launching!  u can follow us @loveboxuk too but do check out the site too!', \"Going to bed it's really late... It's 1:21 PST the time I am posting this \", \"Damn. My phone died early. I'm sad. \", 'Is up for skl ', 'achey breaky mac  @CalireL93', '@OhNessa im over here trynna go to bed but i cant cause im so pissed off! ', 'I DONT FEEL GOOD ', 'And so it begins... ', 'I need to wake up early tomorrow!!! But i shallnt ', 'No class tomorrow but I have a 3 hour meeting. ', '@DreamWorthy Ah! I LOVE Texas. Wyoming was horribly cold, UT was dry and jobless. CO is beautiful, but expensive. Texas feels like home. ', '@selmarieg  I miss you my girl ', 'Whisper hello, I miss you quite terribly!  Sad that my beef is leaving soon!', '@robinmeure probably not  good luck though!', \"http://twitpic.com/4ixe0 - Just because it's already 11pm here and I'm still on PST. 8 Mile while grubbin'. Need to meet friends \", 'Got the first follower on my blog   Thanks @Andhi', '@moniiiicarose  me too', 'Why iit is always rainning this week ', \"@valuhreebee I  don't exist in your life anymore or what?? \", \"I'm still finishing tax documents for early CPA meeting.  I need some rest.  Tweet dreams my friends and have an awesome morning tomorrow \", 'lun hummersalat = god lunch ', '@rom are you psychic? how did you..? LOL ', '@asphyxia05 exit tweetdeck then open again. hahaha. ', '@dougiemcfly Shame about the pizza service though ', \"@Werecat1 Yeah baby! But, um, anyone solvent? We aren't right now.  (Any $ donations are very welcome) \", 'anyonee onn? ', \"@pretty_michy omg what's wong? \", '@problogger oooooh what type of blog?  Lol - would the kids start one next ;P', 'Time to study for exams ', 'Time to disconnect  fantastic dinner waiting with great friends...cant get enough of that!', 'Ok, yeahhhhh. I am watching tv instead of studying! AHHH. ', \"@stibbons  thanks!! it's a bit scary too though :X\", \"says I'm still not yert eating  http://plurk.com/p/sxbod\", ' no mel in religion, i guess im spilling all my boy stories to jackie tomorrow.', 'is sick and has lost her voice ', '@JonathanRKnight awwww Thanks!!! I miss being a mommy!!! My little girl has been an angel for 6 yes now ', '@sanjayrachapudi Ya man,I am jobless right now.Tweets really can tell a lot abt a person.Hols were goin fine till the hall list came out ', 'According to @Vipercy15 the Blizz D got me about 30 points! ', 'okay, a walk to remember is getting a little... overwatched. @daarlenerivero .. haha you were pretty much right ', 'desperately seeking a gud novel ', 'someone transport me to california.... unff  soon.', 'Finally going to bed- only to hear my alarm in 2 hours. Today will be a long one.  ', \"whew, kitchen: done. carpets: vacuumed. dining room:  lounge, all that's remaining is to take the computer apart and pack it in the car \", \"Crap... I'm not a big JJ Abrams fan but all this hype makes me want to see Star Trek \", '@gillian_s @lapazhome I can see that the vegie lovers got called out from that kale confession.  love that.', 'i typed it up to see if mayo have one and they dont every other county has one except us  thats not fair', 'Big Headache right now ', 'Wit my new job, I will not be able to watch The View or Canada Am ', \"@alderina hore!!! I'll be waiting. \", 'eating mamee noddles lol ', \"@iamhewhoisiam You're not the only one *is also not needy but is nearly 37 and single* \", '@purplecrayon957 yeah u told mee.  OMG!! haha', 'yes! brothers and sisters is on tonight ', \"Wasn't Dollhouse amazing last night?  Eeeeee! Come squee with me, my friends! \", 'Goddamnit so much traffic ', \"@Carl_Thompson Whatever happened to good old white dog poo?  You used to see it everywhere.  Now, alas, it's all brown.  \", '@riandawson hit the lights. old school ', 'Late night homework once again. ', 'Supposed to be a day off for me, but instead home with two sick kidlets ', \"I love him, I love him, I LOVE HIM!!  bed time. :] I'm so happy mum forgives me.. I'd rather die than that ever happen.\", \"@GeezusHaberdash &quot;never ever&quot; and she sounded terrible , and I'm not even hating but that shit was pure garbage ....she needs more talent \", 'Movies later! Super excited!!!! Get to see him ', 'Off work. Wit the girls ', \"who knew five months ago that i'd come out here and leave with three new best friends.. ill miss you guys \", 'Church! Time to dance  is cd jungle open today?? Anyone??', 'Why does my counselor at work keep leaving? (Bonnie? Silence). Here comes #4. I never get the counselor lunches  right b4 reviews too.', 'so tired they shouldnt make us play misa sports after nearly 2 hours of sitting in a test in the hall with the whole grade ', 'First good news of the day; they have my squash racquet in lost property ', 'my phone just broke down  but well HAPPY MOTHERS DAY!', 'Just threw up wahhh  I hate tummy aches.', 'Well, Saturday is almost over and I haven`t completed anything. At least I will have the next 4 days! ', '@paul_steele I did groan - just a bit - but giggled too! Cute, Paul!  #SmileSaturday', 'School, so tired. Wish it still was saturday ', '@KindDog HI! not in danger of being blown up.  TNT is a courier company.  Have just tracked my package online &amp; it is nearly here ', 'up at 6am, has a large coffee and is off to school soon ', 'Driving home to vegas; fun day today ', 'GOD plz help me out of this dull life~!~!~! ', '@freakycode nice one mate  thought outrun had you beat there.', '@DVBL exactly ... hmmmm this is what happens when they try and complicate it, like facebook ', \"@elleLOVESgreys that said.. they shouldn't have gotten back together then.  I hate to say that but.. they just weren't right. Not until\", 'is reaalllyyy stressing about graduation week for her baby ', \"Oh so tired. Also, Sophia's recital was the shit!!! \", '@Boogie88 thanks hun, was expected but still sad ', 'I think our pho place uses MSG  Feeling nauseous.', '@iheartquotes the best parts of life are the people you let in it ', \"it's been two years. we've never hugged. \", 'Bed time for this girl. Long horrible week  I need a hug!', 'Station 9 was jumping tonight!  So sad I had to leave!!!  ', \"@nicolemarie72  Eh it's a commercial holiday to sell cards &amp; flowers better they tell you on a day they don't &quot;have&quot; to.\", 'Just woke up....... Owhhh my head ', \"Gotta love OSX' built-in inverse-colors option. It's so calm for my eyes to see all code in light-on-dark \", 'Bummer wave... ', '@mahoganydymond ...oh God !... well stretch first.. ', \"@hockeyfan427 I would've been happy to let them haul the crap away.  \", \"@dvs - well, I'll look the other way.   As long as you learn something about Kentucky, that's all that matters!\", \"@Amandablum Hey, I never complained about @aussieheather's cooking. She kills it, so much that I eat whatever given though veggiephobic. \", \"@CosmicMother yes I'm quite a happy dolly at the moment \", '@sjcNKOTB the only time we get more pay is when we work xmas day and new year day apart from that no extra ', '@mycahhhx3 ugh lucky i go til june 16th ', 'counting down the hours to go to the dentist ', 'finished geography draft.. now onto english.. i think this is the hardest i have worked all year  hahaha', \"@ObviousLB I don't have any new DM \", \"@SatansPuppet That's reassuring  any film with Kate in it should be OK, thanks\", '@twofourteen yes sadly they did ', '@jeremysball when are you coming back for more portabello mushroom burgers?? ', 'Yeah, I am going to come home tonight and crash... Notice the time?  http://kittycode.com has a new look and feel -- though not perfect ', \"@JoeyBiden Joey! I was a bad, bad girl and told everyone a secret. hold on, I'll send it to you. you're gonna be mad at me \", '@anefallarme @phatelara thanks ane!!  catcha guys later!! Time for dinner!  ', '@dnsnow 4 more wins - same as Man U need ', 'headache,  happy mothers day ! last night was iiinsane', '@lizzyron LOL ur waiting for jon and im here still thinking about what the hell tink is!  hahhaa ughhh!', 'Head hurts.. ', \"Still plugging away at my project. Got a lot done fortunately, yaye! Hopefully I'll be finished by tomorrow. Weekend has gone by too fast \", 'is dreading work tomoz, wonders if everything was done correctly at close :S gonna double check everything b4 hand ', \"@kisfrancis http://twitpic.com/3yd6x - Poor Harry Potter. He can't snort coke \", 'think im having cramps  its gonna b a long week', 'Is happy my Russell vinyl has finally arrived! ', 'thanks you @callmejors ', \"girlfriend's laptop power cord just snapped in half.  anybody local got a spare one to lend her? \", '@Jonasbrothers OMG i love it  you guys look so hot!!!', 'Was driving down Park Street and saw this beggar, crying. Apparently, I saw him at the exact same location exactly one year ago, crying. ', '@kezzawezz Fookin ecstatic!!  lol........... I was like omg I didnt expect that :O  EEEEEEEEEE!! xxxx', '@Clumsyxheart  haha thxs!   XD', 'Morning! Feeling tired and a bit down today ', \"@narcissa_bell awww.  no worries. U'll see him very soon!! \", '@RealRobPattz Running to the icecream store now... whats your fave? Sorry for the head ache. ', '@GlamourGirlNow OMG I almost died reading about your kiss last night! ', '@GeorgiaPrincez hahaa, we already knew that about TD though ', 'Wish me luck bout to go look at sum more houses oh yea n da weather kinda cleared up ', 'Damage report for the group numerous bruises and a wrist with a dual fracture - so close too 0 broken bones for the trip ', '@ReemTeam on my way to work, u should bring me some ihop ', \"fell over today and couldn't get up cause i was laughing too hard....n that felt good \", '@CourtCosmetics I completley agree... ', \"@ilymay oohhhhh  I liked when Ted tells everyone about the octopi climbing tree's and sucking peoples faces off this past season.\", 'Today I am trying to do something other then sit inside all day! No car+rain makes me sad  anyone wanna come save me?', \"@chrisbrogan run into the wall on the other side of the room head first...might help. just make sure it's not a window = ER trip \", 'vacation is over,my college starts tomorrow ', '@jimmiefisher I miss you oodles too! I love your term of endearment. ', 'Have they always named fires?  Seems fires in California are beginning to become a regular occurance these days ', '@michellewild so go and do it!!!!!!!!! ', '@Vane_DEW  Im seriously so excited ur going to the today show...will u tell Jonathan I love him? ', '@Thotman It is unbelieveable!  ', '@YoungAceLX ', '@smartwinners Thanks for the mention ', 'had an amazing day off today, very relaxing, refreshing, and SO much fun ', 'home in front of the fire! dont want school tomorrow ', 'off to rockwell with @kpauline to watch xmen ', \"@GrahamBM Wish I could make it to digital safety, but I'll be stuck in Newcastle   Will the slides / videos be put up somewhere?\", \"Sorry to be a pain, but if you've got a phone to sell, try http://bit.ly/FbRVp and enter RFPt2G to earn me some dosh, please! Thank you! \", '@420thoughts 11.20!  just got up!  the sun was out 20 mins ago and now its gone!   wait!  its not 4:20 by u is it!?!?!?!?!?!?', 'Just finished studying and watching OTH. Good night, Janelle and Leah.  Ortho appointment at 10a. Good night, world.', \"Night shift again.  AK, I don't think you can sleep cuz I can't sleep... we're too alike. lol. Doc appt tomorrow. YUCK!\", \"@TheAngelsAnna glad I got my PINK SLIP...oh yeah apologies about this weekend loads of susss happened saturday  I ain't 4get about u tho\", '@Cletae im doing good , i didnt even see you there. im Just in the process of coding my mIRC Bot Pixie  im pleased to see you here ', \"Prom was a lot more fun and a lot less awkward than I thought it would be. Regardless, am very sleepy and it's not even 9:00 yet. \", '@EmilyCiraolo this will definitly be one of the hardest weeks, lets try not to think of it till the last possible second though ', 'No hangover, means time to get this FINAL 1st year assignment complete!! ', 'Joining the twitter world! ', '@AlissaNicolee yeeeeah! Ill show u tomato but hannah thinks someones gna have it  oh welll', '@AdieJonas I know right? I am so lucky I get to download the video before YouTube will erase it cause of third party. Haha!  You want it?', \"@NikkixoRawr that's what I think to. Damn. Lol I'm still hoping he replies though xD. That's my new goal in life  he needxs to update his\", 'OFFLINE ', \"Wishing I could do more 4 mother than gift certificate as she's preppin 4 med appt Mother's Day&amp;cant leave \", \"If I ever move to US someday, I'm buying a El Camino.. For sure. http://tinyurl.com/2stcas \", 'My toesies/feet/knees hurt sooo much  bedtime, goodnight!', 'Have a lovely Sunday outdoors with friends. Greetings to everyone! ', 'Writing a to do list...love spring and summer!  Gardening time   Clean out the camper and get ready for camping next weekend.  You?', \"@aaamylee oh, i can't wait to see it \", \"@Jonasbrothers why isn't the JONAS quiz up yet? \", 'new glasses ', 'hate this life ', \"still recovering from King's Hawaiian. Had delicious fried rice with an egg over easy and spam. yes! i LOVE spam! \", '@game4v em t?t GPRS r?i  sao twit d? twit = sms dc ko ?', '@ryan__harrison hahahaha HAMTHRAX. Did you make that one up?? hysterical. When are you guys coming back from Dubai ', 'Miss my frds  Thus just sent msg to them to express my love  xx', 'Serendipitously sociable day ended with my bike getting stolen from opposite the Metreon.   Star Trek was a fun movie anyway.', \"I can't believe I have to send my shoes back to Nike because of a tear in the swoosh... It took so long for it to get here the first time \", 'http://twitpic.com/4ei6l - Added a new sign today. ', '@leocomerlato @INFECTEDPB503 And my brother.. ', 'good nite. and good mornin to some of ya. ', \"new .ie registration has gone through ... I'm a happy camper \", '@chrisluvssixxam you finally roll yo ass in!!! ', 'Advertisement: how do you guys handle fax?  i want to receive them via email. no hassle. anyone tried MyFax?  http://is.gd/w4MZ magpiead', '@thehillsfan1 Krissy the chat still isnt working for me...   ', 'By @takkie13 @geniusboywonder  #FIFA #2010 #-football #soccer #capetown they are almost gone ', \"@abeoisbunk oh yeah, I can't wait. \", \"@marlyrae aww sorry i forgot to call you! i can't come over...got LOTS of homework  next weekend though...long weekend!\", \"At the office... Let's buy Green Day show tickets!! \", 'Tomorrow is going to suck. Funeral in the morning  RIP Jerry Thomas...Work is not the same without you!', \"@dustyedwards mornin' \", 'adam is feeling hurt ', 'Am watching &quot;DollHouse&quot; Awesome show too, Love Joss Whedon am sad cause I heard it will not be back next season ', 'woke up with bad cramps..trying to get ready for work ', '@katiequibell tell him ', 'is so fucking tired. I just wanna go to bed ', '@teshiron still not working. ', \"'the sun upon the roof in winter. would draw you out like a flower.' meet you at the statue in an hour. meet you at the statue in an hour \", \"@boagworld Does poor Helen know what she's letting herself in for? Her and 10 rowdy blokes!  (via @ryanhavoc) - 14 actually \", \"@meljean ah. I need to catch up on HPs/harlequins in general...  I'm going through withdrawal\", '@davidleibrandt I think you just killed me ', 'Spa day today...hot stone massage ', \"i have a killer headache from slamming my head in Sara's car door.  all to tell her that she had a cute butt!\", \"Enrique Iglesias Concert Was Last Night. Didn't Go So I'm Making Up For It By Having Played His Album On My iPod At Least 5 Times. Sad \", \"@chadcarson Wow... I am imagining a cockroach coming out every 2 minutes or so to the point in which you can't sit down at all to write \", \"@MissNixs aww, that's really sad  poor ol' bumble bee\", \"@DallasDeb more than 2 days... Next day off is may 9th. Wtf? But I'll be fine atleast there will be 2 nice paychecks @ the end of it. \", 'just got up, its a lovely day..need to finish off a song then go to manchester and buy some clothes to take on tour  x', \"@fmlim i'm dreading it. it's gonna take up the rest of my summer \", '@radha_ my camera is with my friend  may be on monday or tuesday..', 'feeling a little lazy.  p.s. i had the worst nightmare of my life this morning.  it was about dog poo, my teeth and a campground bathroom ', 'Be back shortly @theviolets just arrived ', \"let's all welcome @brittenybaby brand new and needs followers \", \"@DylanRichardson yea i have the beta right now -- had some slight issues so i'm glad to be restarting with RC \", '@barnyardradio you need an intern?!?! Hi! ', 'Phone completely out of charge and I have forgotten my charger at home! so my phone is switched off  - should hopefully sort it out soon.', '@tishh ill try  i love youuu and miss you!!', \"And ohh yeaa! Adam, dips, matt i love the shit outta you guys!  and even tho you couldn't make it, i love you JP!\", \"@a_web_designer hey mate, hows things n bits? Me... after finally relaunching twitterhawk... I'm off to get some groceries!  Keep in touch\", '...like sunday morning ', \"I was doing so well on just 4 hrs of sleep...but I'm starting to feel defeated  showered, fed (well a snack) and sleepy! time for a nap.\", 'is playing Euro 2008 on the psp ', 'dani, eat, dance, oulets, desi. woah, thats a pattern. bye ', '@GarrettWalt still my birthDAY  you need to sleep.', '@iNinja2009 Feel the same matey  Not watching film myself!', 'going to take a shower and then homework ', \"@aydiosmioakia it only works on the bold and 8900. I don't have that \", \"@lchibanMamaSan I feel ya! Sucks that you can't have the day off. \", '@NadiaNV oh 4 real? When will it be shown? Would love to check that out....Congrats on getting that gig! ', '@shahrukh_khan In what way ?  :p (Sorry for my english ..)', \"Just found out it's a bank holiday today - no money, no library for computer access...it's official, god hates me \", \"@solangeknowles http://twitpic.com/4en6y - been here, it's got some lovely picture-taking moments  x\", \"Just thought I'd drop by &amp; say Hi ! I knw I dn't knw u ppl &amp; U dn't knw me but Hi anyway \", '@10isjess Congrats!!  Bigger boobs?? Sometimes thats not always a good thing..esp if ya wanna borrow clothes!', 'home from boozle and showered. food and sleep to follow. sick ', '@Iconaholic Oh I will try this ', '@collageartist hope you got some rest - I will probably post a pic with your stamp today! ', '@Baleyrocks23  Your msn is a whore', \"@rickggaribay: Yeah..we're going to have to put that crap out again..sprayed it away.  A pain...but it does seem to work well.  Thanks \", 'Just finished watching &quot;White on Rice&quot;. Very funny. If you get a chance, go see it!  ', \"I'm vegas wit the fams. Reunited wit my godson  hope y'all having fun at vals din\", 'Upgraded #ubuntu 8.10 =&gt; 9.04, went smoothly. Minor glitches: Terminal font changed, compiz shortcuts deleted. Firefox still slow ', 'I don likey swiney  lolz hahaha WHERE IS EVERYONE?!?!', '@NyssaM http://twitpic.com/4f82d - Aww! Cute. In a slightly odd way ', 'I hope she gets better... I cant go to Mcfly on my own... ', 'why go to a  theater and spend almost  $10 to view a possibly good movie after a 1/2 hour of previews, commercials, + the cell phones ', \"@Mamajen916 It's my day off. I'm just being nice. It was suppose to give me a 6th day...but my DM veto'd that. \", 'Finally got home..our band had a show today  it was so much fun. anyways, prom tomorrow! and mike, i love you soo much, baby.&lt;3', 'now iÃ¯Â¿Â½m studing for the fÃ¯Â¿Â½sico quÃ¯Â¿Â½mica test     .....', 'exams this week  im not looking forward to them tho we do get to go iceskating!', '@tickledtink no problem! There will be more  hope all is well.', '@mileycyrus i wish i could go ', \"@weshotthemoon So what other bands do you like? Who inspires you? I'm sorry, I just wondered. \", \"@ThisIsJuice LOL  you're my favorite......\", 'Last day in dc ', '@hamsterwatch well thats not nice that he blocked ya  lol good to see ya tweeting again tho!', \"@almostcool It's an online radio station featuring only local Monterey County bands. \", 'WTB: [Reins of the Armored Brown Bear] 200g short ', 'NO batti = no net  damn you wlink', \"@ness_sp lolz i said i sucked xD ahahaha. ok we'll do that  oh phew  did u rock up in the clown outfit? LOL. epic dream i have 2 tell...\", '@KimKardashian i just saw the episode where u guys watched family videos of ur dad. i balled my ass off  how long has it been?', '@oscartrelles yes, cause you like your crazy 25 window tweetdeck that needs a whole monitor to use! ', 'David: If Edward Cullen eats food, does it just sit there? Does he poop? Me: I have no idea, Stephenie left that part out, sorry hon ', 'Html for the site is finished.  Just basic updates left, and posting to further establish the plot and DS canon characters. Come join us! ', '@modelstruck are you coming to San Fran? I heard you were and I want you to be there! No matter what it takeS ', \"@twooden426 it didn't go through! Fail \", '@dividepictures Alas the nearest comic book store is 2 hours away by train. ', 'Got Off workk  This Is jUzt Bleak!!!  Home alone ', '@webnatu No seriously.  Love Christian Bale. He made me love Batman.', '@frankwhitetv i know..poor halle  they had 50 million pics...they coulda let her be', \"going to bed... seein' my honey tomorrow for breakfast \", 'I got a dozen donuts for the fam, I just had my seventh ', '@oliverpalmer I know, but I was in there adding links anyway...  Numbers for tonight are looking great!', '@FacePaint101 thank you.  Ms.Barfield', 'Awe Joe lost his game  Now i gotta go cheer him up...', 'Watchin the best musical ever..... Grease ', 'g2g malling annnd shopping now... laterz! ', '@shayleriggs haha! yeah i got it but im so confused what to do lol ', '@MzJay08 I think my blackberry is my first love!! ', 'i do not want honduras to hurry up. im gunna be wwaayy lonely  bbuutt the sooner it gets here.. the sooner everyone comes back to me!! lol', \"Uploading pics to facebook is really making the night go quickly.. not that I want it to, coz then I have to go to work t'mrw!  \", 'i need to get a fucking liiife!!! ', 'Good morning, thank you everyone who are now following me...I  also found so interesting people to follow ', '@davidlebovitz Still waiting for the Romain version of Caesar Salad on your blog!  I know, I know..my mom always said &quot;things take time&quot; ', \"Re-pinging @_yolanda22_: Not in d best of moods... I'll punch somebody in d nuts.  #moodswings- that sounds painful \", 'SMS &quot;Natalie&quot; to 199 52 100 or call 1902 552 101  NATALIE BASSINGTHWAIGHTE shall win &amp; ROVE will cry ', 'is going to take a shower, then go up to the university to pay for his Graduation tickets. Almost over! - Magic all the way from now on! ', 'is on a coffee break ', 'Who needs sunshine anyway? I would, but noone cares  - http://www.flickaday.com/p/129/98748', 'Getting ready for work ', 'doing my assignment this is so fun ', \"@jacobmetzner: well to you maybe. Again, i'm really trying not to be an ass hole but she has a point. Sorry dude \", '@ostinelli check your hair cut ', '@TracySus haha Im still pissed we never found that pool ', \"@centerstage09 Haven't seen it!  lmaooo\", '@vdehejia I Hate that its really annoying ', 'Sleeepy, need an early start tomarrow ', 'no0o0o0o0o0 mommy i dont want to go to work in the morning ', '@DianaRusso interesting re: guy w/ similar theories as 2 ivan. there are quite a few-coming 2gether now &amp; sharing info ', 'flying out to Kansas City today. I am going to miss my wife this week ', 'Loved tonight as well ', \"CAN'T BELIEVE SAMI IS LEAVING ANFIELD \", 'Just got kicked out of wadeys office ', '@drkuku because Sunday is followed by Monday ', '@karlasand THNX! glad u dig the R&amp;J  PeAcE On EaRtH! JT', \"@Dina357 i Wish, i Went on My Dad's iPhone.  He Just Got one, Even though he kept on saying iPhones were Rubbish a few months ago...\", 'Im very very rude! although it is true! they just lie!  everyone want a little uncle dad dick ', \"Still stopped up and now my ear is hurting...so I'm going to the dr \", 'just got home! this has been a very very long day! if fact I was barely home all weekend ', '@JoeFelix well-balanced emotions lead to happiness. ', \"I haven't smiled this hard in a long time  i cant wait to see what happens\", 'Chating with my homies one i might never hear from again  shes a great girl but she cant make a Twitter or any thing idk', \"just finished 'saison' 1 of Supernatural.  damn good series imho.  darn, not tired enuf to sleep yet &amp; I have to work 2morrow too \", 'We rented this Karaoke machine for $10 a day, the volume is so loud that all the neighbors clap for joy ', \"@AnalystAlterEgo Yeah, I'm back home, my cousin's staying at my grandma's   Anyway give me a few minutes, then we'll so do this thing!\", \"@dylan_mason I agree, it's done well for no promo, but I'm gutted that it was sooo close to #10! \", '@NctrnlBst daaang I have to work.   Double dang, the assignment is in Wahiawa!', 'Jen recieved a beautiful new bracelet today  i feel loved  xox', 'Sitting here talking to my boyfriend who just got back into town today. Man, I missed him (even though he just left Wednesday)... ', \"currently playing on barbiegirls.com  they have some fun games. i'm addicted to fashion frenzy\", \"good morning, world  I'm going to school in 25 minutes... after a sleepless night. And I fucking hate it!\", 'all my underwear and my new pair of shorts have gone missing and it all gets mixed up. i just want my new white shorts. ', '@catrionax exactly what i was thinking ', '@missflipflop cool!  I plan on hopefully getting there between 7-9pm thurs night. ', '@rebecca878 but I saw them for first time 6th October 2008 (: it was amazing.. I remember I cried  have you ever see them? take care (: xx', 'I miss you my  friends about to cry!!  Please bring back my &quot;ALL Friends Feed&quot;  ', 'Very very sore head ', \"@ABPink Would like to read that one too, Coleen was doing a book signing locally but I couldn't make it \", \"I miss you too bbygrl. Next weekend furrsure we're gonna have us some fun. Cuz then you're gone and ima miss you sooooo much \", \"It's ?lrigt, ok?y  ... I'm so much better without u ... I won't be sorry \", \"Work: baby pee, bloody receipt, &amp;dirty panties, and now I'm too tired to go to Jusann's party. \", \"Now I'm watching Episode 3of 4, of &quot;The simpsons&quot; Party Time! \", \"tiredd excited for tomorrow...maybe i'll actually wake in time to run in the morning \", 'Sorry, all my braincells being used up by studies atm ', '@jphresh2deaf ur welcome ', 'I have strep throat and it hurts ', \"http://twitpic.com/4iizp - The View From My Granda's Hostipal Room . I was sitting On a Windown Leg \", '@wonkotsane awww, must have missed you :9 would have come and said hello to Charlie and you, of course ', \"@JazzieBluE that's awesome! What'd you say to them!?? \", '@steph_davies It`s sorta hard to find eh.  He has a site though. It`s http://feltbeats.com/. Check it out. ', \"@cheekygene oh I see like that is it, oh well, looks like I won't be mowing meadows today... \", \"I'm not an optimistic person. I'm doing what I can.  \", \"Having spent a fair whack of yesterday working, I've come to the conclusion that there's no point in leaving work early unless I need to \", \"i'm about to go to bed though because that 3 hrs last night just didn't work well for me. have a goodnight everyone \", 'This will be a lonnnnnggggg night!  Well since yep I had a few NAPS! uggghh! I guess I must deal with it!  ', 'tired and going to bed soon! Going to eat some chili first tho. I am sick and my appetite has been crappy all day! ', 'Only french and japanese teams who skip lunch. ', 'I am still seeing in black and white omg ', '@KatieKuddles Good, keep it that way. ', '@Mistyconn oh no!! That really sucks!! ', \"It's getting very hot n dry here in Hyderabad these days. Right now the temperature is 39DC with 8% humidity \", 'I bought white Converse!So wonderful ', 'work work work  and procrastinating with twitter ', \"@mustangirl16 Nope but I'd love to go    \", \"@5c6a 1:58 - hadn't trained over the last 2 months! Came last!  Slower than the fat guy and old woman! Have to redeem myself in June now!\", '@riandawson actually, We Say Summer ', 'I will draw the cover. Make it in all of the 3 (B/W, Greyscale and colour) and see what people like best ', 'Havent been 2 sleep yet - 24 hours! Not used to this, my eyes are nippy ', 'Dont you just love surprises! ', '@Rougier Precisely... As @Susan_BBA had commented, the community on the forums is going downward... ', '@temptationdice the english is gaaaaay ', 'if you wanna add me on myspace, reply and ill direct messaage you my link ', '@andyclemmensen its okay its only 10.00 for us perth kiddos ', '20 minutes until the new Extreme Makeover: Home Edition from NC comes on! AHHH! watch it! ', 'twitter isnt workin properly   not fun when ur stuck on the couch!', 'Cycling - not very far but far enough this morning.  My knee is really starting to hurt though   I will get some of this weigh shifted', \"@patriciiaaa cool.. he's answering you xD I hate it.. I don't want to love him... why is he so sweat? :@ ... \", \"Haibao and Shanghai all over the Jing. I'm loving this. \", '@wourivice Happy Birthday sis ', \"@emmsrose *Texts* I'm with him right now actually \", \"Woke up @ 2am last night SIIIIIIIICK. After an hour or so, Indian food finally gave up the ghost. Not fun.  Just glad wasn't the IUD...\", '@highdigi Great stuff!!  Thanks!!', 'yet again I find myself in the emergency room. wtf ', '@nuttychris i know they drink more.u need more pubs.lol ', 'just broke one of my nails in a really fucked up way, had to cut all of them really short ', \"@Sims3Nieuws Lol it doesn't really help that I know someone is ignoring me (you probably know who I mean)  Dunno what to do about it.\", 'Loved~ Loved~ Loved Wolverine!!!! my daughter blushed when hugh was naked ) Hugh what an amazing job~ and Body holy moly ', \"@deiknuo 'tis fun. Beer &amp; Carols at Christmas was even more fun \", \"blah that guy isn't here  come tooo 24 !!!!\", \"@MrTeagan How come you guys aren't following me yet ? \", 'Is trying to stay up with crystal ', \"@Raycee22 Your sister said you'll kill her if I follow you \", \"Grape and pomegranite juice really doesn't taste anywhere near as Good as I hoped :/ pain au chocolat does though! \", 'resident evil 5 is awesome!!!i can play it all day without rest.i play it on my dads xbox,so i had to leave it in my parents room ', '@GavinDeGraw yeah Gavin!  Good to have you on ', 'weekend 9 already..? i kinda.. dont want.. week 10 n week 11 to come.. ', '@JBlazemusic Good morning.  Im waking you up early. You need to wash your stinky butt cause I smell u all the way up here in Jersey.  jk ', \"fighting with my hair since this morning.. why today they aren't collaborating? 2morrow morning i'll have to have a shower, AGAIN \", \"Plans for the day scuppered by someone else's hangover.  All lost with nothing to do now \", '@chloewrites I missed mine too  Congratulations on catching yourself in time!', \"@mama_cholo lol. u're totally in the lame club. con monica lol. n me.  i told her i dont remember being this lame b4 i met her lol.\", 'Is going to start depending on twitter, because im a tool  whoo.', \"Are you there tequilla? Meh please don't be.. Don't wanna be sick \", 'Just finished a physics test...it was hard... Im gonna have a F for sure ', '@bill_archie *singing save the day*  glad to hear that she helped u! ', 'Im at the movies wit @chikkis and the guys watching Wolverine ', '@TheRealJanice_ goodnight mama..unti next time ', 'finally join twitter!! ^o^ *padahal kemaren2 males krn udah punya plurk* ', \"Ok what's going on twitter? I'm having technical difficulties \", 'My tummy hurts ', \"@astroengine I haven't decided. i have phone calls to make 2mr. sorta pissed right now about that lol blip powering me on! \", 'Now prom is over, its time to get fucked up!!! Work tomorrow open to close ', '@joe_elhaiby thannnnnnnnnx for the dinner baby!!! loved it SO so much  mwa Love u', 'lose myself...Im faraway ', \"Billy Mae will be sad...that super putty stuff just doesn't compare \", 'fierybloke http://tinyurl.com/dkcjwq: Best: Fun chick    Worst: Supports the dirty reds  :x', \"Watching Smallville and I'm starting to lose interest in the show   Hmm... I wonder how there going to wrap up this season.\", 'realized nathan wasnt at church this arvo. wonders why and is excited for wildfire night. on the car, on the way home now ', '@Kelli__ AmanhÃ¯Â¿Â½ vou editar e publicar! ')\n",
      "\n"
     ]
    }
   ],
   "source": [
    "for b in dataloader:\n",
    "    for i in b:\n",
    "        print(i)\n",
    "        print()\n",
    "    break"
   ]
  },
  {
   "cell_type": "code",
   "execution_count": 13,
   "metadata": {
    "metadata": {}
   },
   "outputs": [
    {
     "name": "stderr",
     "output_type": "stream",
     "text": [
      "/home/arjun/AI_ENV/lib/python3.10/site-packages/torch/_inductor/compile_fx.py:140: UserWarning: TensorFloat32 tensor cores for float32 matrix multiplication available but not enabled. Consider setting `torch.set_float32_matmul_precision('high')` for better performance.\n",
      "  warnings.warn(\n"
     ]
    },
    {
     "name": "stdout",
     "output_type": "stream",
     "text": [
      "500 500\n",
      "1\n",
      "500 500\n",
      "2\n",
      "500 500\n",
      "3\n",
      "500 500\n",
      "4\n",
      "500 500\n",
      "5\n",
      "500 500\n",
      "6\n",
      "500 500\n",
      "7\n",
      "500 500\n",
      "8\n",
      "500 500\n",
      "9\n",
      "500 500\n",
      "10\n",
      "500 500\n",
      "11\n",
      "500 500\n",
      "12\n",
      "500 500\n",
      "13\n",
      "500 500\n",
      "14\n",
      "500 500\n",
      "15\n",
      "500 500\n",
      "16\n",
      "500 500\n",
      "17\n",
      "500 500\n",
      "18\n",
      "500 500\n",
      "19\n",
      "500 500\n",
      "20\n",
      "500 500\n",
      "21\n",
      "500 500\n",
      "22\n",
      "500 500\n",
      "23\n",
      "500 500\n",
      "24\n",
      "500 500\n",
      "25\n",
      "500 500\n",
      "26\n",
      "500 500\n",
      "27\n",
      "500 500\n",
      "28\n",
      "500 500\n",
      "29\n",
      "500 500\n",
      "30\n",
      "500 500\n",
      "31\n",
      "500 500\n",
      "32\n",
      "500 500\n",
      "33\n",
      "500 500\n",
      "34\n",
      "500 500\n",
      "35\n",
      "500 500\n",
      "36\n",
      "500 500\n",
      "37\n",
      "500 500\n",
      "38\n",
      "500 500\n",
      "39\n",
      "500 500\n",
      "40\n",
      "500 500\n",
      "41\n",
      "500 500\n",
      "42\n",
      "500 500\n",
      "43\n",
      "500 500\n",
      "44\n",
      "500 500\n",
      "45\n",
      "500 500\n",
      "46\n",
      "500 500\n",
      "47\n",
      "500 500\n",
      "48\n",
      "500 500\n",
      "49\n",
      "500 500\n",
      "50\n",
      "500 500\n",
      "51\n",
      "500 500\n",
      "52\n",
      "500 500\n",
      "53\n",
      "500 500\n",
      "54\n",
      "500 500\n",
      "55\n",
      "500 500\n",
      "56\n",
      "500 500\n",
      "57\n",
      "500 500\n",
      "58\n",
      "500 500\n",
      "59\n",
      "500 500\n",
      "60\n",
      "500 500\n",
      "61\n",
      "500 500\n",
      "62\n",
      "500 500\n",
      "63\n",
      "500 500\n",
      "64\n",
      "500 500\n",
      "65\n",
      "500 500\n",
      "66\n",
      "500 500\n",
      "67\n",
      "500 500\n",
      "68\n",
      "500 500\n",
      "69\n",
      "500 500\n",
      "70\n",
      "500 500\n",
      "71\n",
      "500 500\n",
      "72\n",
      "500 500\n",
      "73\n",
      "500 500\n",
      "74\n",
      "500 500\n",
      "75\n",
      "500 500\n",
      "76\n",
      "500 500\n",
      "77\n",
      "500 500\n",
      "78\n",
      "500 500\n",
      "79\n",
      "500 500\n",
      "80\n",
      "500 500\n",
      "81\n",
      "500 500\n",
      "82\n",
      "500 500\n",
      "83\n",
      "500 500\n",
      "84\n",
      "500 500\n",
      "85\n",
      "500 500\n",
      "86\n",
      "500 500\n",
      "87\n",
      "500 500\n",
      "88\n",
      "500 500\n",
      "89\n",
      "500 500\n",
      "90\n",
      "500 500\n",
      "91\n",
      "500 500\n",
      "92\n",
      "500 500\n",
      "93\n",
      "500 500\n",
      "94\n",
      "500 500\n",
      "95\n",
      "500 500\n",
      "96\n",
      "500 500\n",
      "97\n",
      "500 500\n",
      "98\n",
      "500 500\n",
      "99\n",
      "500 500\n",
      "100\n",
      "500 500\n",
      "101\n",
      "500 500\n",
      "102\n",
      "500 500\n",
      "103\n",
      "500 500\n",
      "104\n",
      "500 500\n",
      "105\n",
      "500 500\n",
      "106\n",
      "500 500\n",
      "107\n",
      "500 500\n",
      "108\n",
      "500 500\n",
      "109\n",
      "500 500\n",
      "110\n",
      "500 500\n",
      "111\n",
      "500 500\n",
      "112\n",
      "500 500\n",
      "113\n",
      "500 500\n",
      "114\n",
      "500 500\n",
      "115\n",
      "500 500\n",
      "116\n",
      "500 500\n",
      "117\n",
      "500 500\n",
      "118\n",
      "500 500\n",
      "119\n",
      "500 500\n",
      "120\n",
      "500 500\n",
      "121\n",
      "500 500\n",
      "122\n",
      "500 500\n",
      "123\n",
      "500 500\n",
      "124\n",
      "500 500\n",
      "125\n",
      "500 500\n",
      "126\n",
      "500 500\n",
      "127\n",
      "500 500\n",
      "128\n",
      "500 500\n",
      "129\n",
      "500 500\n",
      "130\n",
      "500 500\n",
      "131\n",
      "500 500\n",
      "132\n",
      "500 500\n",
      "133\n",
      "500 500\n",
      "134\n",
      "500 500\n",
      "135\n",
      "500 500\n",
      "136\n",
      "500 500\n",
      "137\n",
      "500 500\n",
      "138\n",
      "500 500\n",
      "139\n",
      "500 500\n",
      "140\n",
      "500 500\n",
      "141\n",
      "500 500\n",
      "142\n",
      "500 500\n",
      "143\n",
      "500 500\n",
      "144\n",
      "500 500\n",
      "145\n",
      "500 500\n",
      "146\n",
      "500 500\n",
      "147\n",
      "500 500\n",
      "148\n",
      "500 500\n",
      "149\n",
      "500 500\n",
      "150\n",
      "500 500\n",
      "151\n",
      "500 500\n",
      "152\n",
      "500 500\n",
      "153\n",
      "500 500\n",
      "154\n",
      "500 500\n",
      "155\n",
      "500 500\n",
      "156\n",
      "500 500\n",
      "157\n",
      "500 500\n",
      "158\n",
      "500 500\n",
      "159\n",
      "500 500\n",
      "160\n",
      "500 500\n",
      "161\n",
      "500 500\n",
      "162\n",
      "500 500\n",
      "163\n",
      "500 500\n",
      "164\n",
      "500 500\n",
      "165\n",
      "500 500\n",
      "166\n",
      "500 500\n",
      "167\n",
      "500 500\n",
      "168\n",
      "500 500\n",
      "169\n",
      "500 500\n",
      "170\n",
      "500 500\n",
      "171\n",
      "500 500\n",
      "172\n",
      "500 500\n",
      "173\n",
      "500 500\n",
      "174\n",
      "500 500\n",
      "175\n",
      "500 500\n",
      "176\n",
      "500 500\n",
      "177\n",
      "500 500\n",
      "178\n",
      "500 500\n",
      "179\n",
      "500 500\n",
      "180\n",
      "500 500\n",
      "181\n",
      "500 500\n",
      "182\n",
      "500 500\n",
      "183\n",
      "500 500\n",
      "184\n",
      "500 500\n",
      "185\n",
      "500 500\n",
      "186\n",
      "500 500\n",
      "187\n",
      "500 500\n",
      "188\n",
      "500 500\n",
      "189\n",
      "500 500\n",
      "190\n",
      "500 500\n",
      "191\n",
      "500 500\n",
      "192\n",
      "500 500\n",
      "193\n",
      "500 500\n",
      "194\n",
      "500 500\n",
      "195\n",
      "500 500\n",
      "196\n",
      "500 500\n",
      "197\n",
      "500 500\n",
      "198\n",
      "500 500\n",
      "199\n",
      "500 500\n",
      "200\n"
     ]
    }
   ],
   "source": [
    "model = torch.compile(model)\n",
    "model=model.to(device)\n",
    "l2 = 0\n",
    "acc = 0 \n",
    "oxford_text = []\n",
    "oxford_label = []\n",
    "oxford_raw = {}\n",
    "ct = 0\n",
    "ct_ = 0 \n",
    "with torch.no_grad():\n",
    "    for batch in dataloader:\n",
    "        input_ids_batch, attention_mask_batch, labels_batch, text = [b for b in batch]\n",
    "        input_ids_batch = input_ids_batch.to(device)\n",
    "        attention_mask_batch = attention_mask_batch.to(device)\n",
    "        labels_batch = labels_batch.to(device)\n",
    "        output=model(input_ids_batch,attention_mask=attention_mask_batch)\n",
    "        torch.cuda.empty_cache()\n",
    "\n",
    "        print(len(text),len(torch.sigmoid(output.logits.squeeze())))\n",
    "\n",
    "\n",
    "\n",
    "        for i,o in zip(text, torch.sigmoid(output.logits.squeeze())>.5):\n",
    "            oxford_text.append(i)\n",
    "            oxford_label.append(o)\n",
    "\n",
    "        for i,o in zip(text, torch.sigmoid(output.logits.squeeze())):\n",
    "            oxford_raw[i] = float(o)\n",
    "        \n",
    "        ct += 1\n",
    "        print(ct)\n",
    "        ct_ += len(batch)"
   ]
  },
  {
   "cell_type": "code",
   "execution_count": 14,
   "metadata": {
    "metadata": {}
   },
   "outputs": [
    {
     "data": {
      "text/plain": [
       "800"
      ]
     },
     "execution_count": 14,
     "metadata": {},
     "output_type": "execute_result"
    }
   ],
   "source": [
    "ct_"
   ]
  },
  {
   "cell_type": "code",
   "execution_count": 15,
   "metadata": {
    "metadata": {}
   },
   "outputs": [
    {
     "data": {
      "text/plain": [
       "100000"
      ]
     },
     "execution_count": 15,
     "metadata": {},
     "output_type": "execute_result"
    }
   ],
   "source": [
    "len(oxford_text)"
   ]
  },
  {
   "cell_type": "code",
   "execution_count": 16,
   "metadata": {
    "metadata": {}
   },
   "outputs": [
    {
     "data": {
      "text/plain": [
       "100000"
      ]
     },
     "execution_count": 16,
     "metadata": {},
     "output_type": "execute_result"
    }
   ],
   "source": [
    "len(oxford_label)"
   ]
  },
  {
   "cell_type": "code",
   "execution_count": 17,
   "metadata": {
    "metadata": {}
   },
   "outputs": [],
   "source": [
    "oxford_label = torch.tensor(oxford_label)\n",
    "\n",
    "oxford_text = oxford_text\n",
    "oxford_label = oxford_label.cpu().numpy()\n",
    "df1 = pd.DataFrame({'Text': oxford_text, 'Label':oxford_label})\n",
    "df1['Label'] = df1['Label'].map({True:'Positive', False: 'Negative'})"
   ]
  },
  {
   "cell_type": "code",
   "execution_count": 18,
   "metadata": {
    "metadata": {}
   },
   "outputs": [
    {
     "data": {
      "text/html": [
       "<div>\n",
       "<style scoped>\n",
       "    .dataframe tbody tr th:only-of-type {\n",
       "        vertical-align: middle;\n",
       "    }\n",
       "\n",
       "    .dataframe tbody tr th {\n",
       "        vertical-align: top;\n",
       "    }\n",
       "\n",
       "    .dataframe thead th {\n",
       "        text-align: right;\n",
       "    }\n",
       "</style>\n",
       "<table border=\"1\" class=\"dataframe\">\n",
       "  <thead>\n",
       "    <tr style=\"text-align: right;\">\n",
       "      <th></th>\n",
       "      <th>Text</th>\n",
       "      <th>Label</th>\n",
       "    </tr>\n",
       "  </thead>\n",
       "  <tbody>\n",
       "    <tr>\n",
       "      <th>0</th>\n",
       "      <td>apt-get remove money</td>\n",
       "      <td>Negative</td>\n",
       "    </tr>\n",
       "    <tr>\n",
       "      <th>1</th>\n",
       "      <td>weekend photos are up</td>\n",
       "      <td>Negative</td>\n",
       "    </tr>\n",
       "    <tr>\n",
       "      <th>2</th>\n",
       "      <td>@BillyMac1378 You must have graduated from the...</td>\n",
       "      <td>Positive</td>\n",
       "    </tr>\n",
       "    <tr>\n",
       "      <th>3</th>\n",
       "      <td>I feel asleep watching TV and Ashlyn woke me u...</td>\n",
       "      <td>Negative</td>\n",
       "    </tr>\n",
       "    <tr>\n",
       "      <th>4</th>\n",
       "      <td>I hate boys  they do nothing but tear my heart...</td>\n",
       "      <td>Negative</td>\n",
       "    </tr>\n",
       "    <tr>\n",
       "      <th>...</th>\n",
       "      <td>...</td>\n",
       "      <td>...</td>\n",
       "    </tr>\n",
       "    <tr>\n",
       "      <th>99995</th>\n",
       "      <td>I just finished cleaning my room, ha.. All my ...</td>\n",
       "      <td>Negative</td>\n",
       "    </tr>\n",
       "    <tr>\n",
       "      <th>99996</th>\n",
       "      <td>been good today..had cereal for breakfast and ...</td>\n",
       "      <td>Negative</td>\n",
       "    </tr>\n",
       "    <tr>\n",
       "      <th>99997</th>\n",
       "      <td>@corychambers I'm going again today Cory!</td>\n",
       "      <td>Positive</td>\n",
       "    </tr>\n",
       "    <tr>\n",
       "      <th>99998</th>\n",
       "      <td>Morning Sunshines  Hot chocolate for anyone?</td>\n",
       "      <td>Positive</td>\n",
       "    </tr>\n",
       "    <tr>\n",
       "      <th>99999</th>\n",
       "      <td>currently i'm making my own mosh pit with sam ...</td>\n",
       "      <td>Positive</td>\n",
       "    </tr>\n",
       "  </tbody>\n",
       "</table>\n",
       "<p>100000 rows × 2 columns</p>\n",
       "</div>"
      ],
      "text/plain": [
       "                                                    Text     Label\n",
       "0                                  apt-get remove money   Negative\n",
       "1                                 weekend photos are up   Negative\n",
       "2      @BillyMac1378 You must have graduated from the...  Positive\n",
       "3      I feel asleep watching TV and Ashlyn woke me u...  Negative\n",
       "4      I hate boys  they do nothing but tear my heart...  Negative\n",
       "...                                                  ...       ...\n",
       "99995  I just finished cleaning my room, ha.. All my ...  Negative\n",
       "99996  been good today..had cereal for breakfast and ...  Negative\n",
       "99997         @corychambers I'm going again today Cory!   Positive\n",
       "99998       Morning Sunshines  Hot chocolate for anyone?  Positive\n",
       "99999  currently i'm making my own mosh pit with sam ...  Positive\n",
       "\n",
       "[100000 rows x 2 columns]"
      ]
     },
     "execution_count": 18,
     "metadata": {},
     "output_type": "execute_result"
    }
   ],
   "source": [
    "df1"
   ]
  },
  {
   "cell_type": "code",
   "execution_count": 19,
   "metadata": {
    "metadata": {}
   },
   "outputs": [],
   "source": [
    "df1.to_csv('weak_label_20_epochcs.csv', index=False)"
   ]
  },
  {
   "cell_type": "code",
   "execution_count": 20,
   "metadata": {
    "metadata": {}
   },
   "outputs": [
    {
     "data": {
      "text/html": [
       "<div>\n",
       "<style scoped>\n",
       "    .dataframe tbody tr th:only-of-type {\n",
       "        vertical-align: middle;\n",
       "    }\n",
       "\n",
       "    .dataframe tbody tr th {\n",
       "        vertical-align: top;\n",
       "    }\n",
       "\n",
       "    .dataframe thead th {\n",
       "        text-align: right;\n",
       "    }\n",
       "</style>\n",
       "<table border=\"1\" class=\"dataframe\">\n",
       "  <thead>\n",
       "    <tr style=\"text-align: right;\">\n",
       "      <th></th>\n",
       "      <th>Label</th>\n",
       "      <th>count</th>\n",
       "    </tr>\n",
       "  </thead>\n",
       "  <tbody>\n",
       "    <tr>\n",
       "      <th>0</th>\n",
       "      <td>Negative</td>\n",
       "      <td>50485</td>\n",
       "    </tr>\n",
       "    <tr>\n",
       "      <th>1</th>\n",
       "      <td>Positive</td>\n",
       "      <td>49515</td>\n",
       "    </tr>\n",
       "  </tbody>\n",
       "</table>\n",
       "</div>"
      ],
      "text/plain": [
       "      Label  count\n",
       "0  Negative  50485\n",
       "1  Positive  49515"
      ]
     },
     "execution_count": 20,
     "metadata": {},
     "output_type": "execute_result"
    }
   ],
   "source": [
    "target_df = df1['Label'].value_counts().reset_index()\n",
    "target_df"
   ]
  },
  {
   "cell_type": "code",
   "execution_count": 22,
   "metadata": {
    "metadata": {}
   },
   "outputs": [
    {
     "data": {
      "text/plain": [
       "100000"
      ]
     },
     "execution_count": 22,
     "metadata": {},
     "output_type": "execute_result"
    }
   ],
   "source": [
    "df = pd.read_csv('weak_label_20_epochcs.csv')\n",
    "len(df)"
   ]
  }
 ],
 "metadata": {
  "kernelspec": {
   "display_name": "AI_ENV",
   "language": "python",
   "name": "python3"
  },
  "language_info": {
   "codemirror_mode": {
    "name": "ipython",
    "version": 3
   },
   "file_extension": ".py",
   "mimetype": "text/x-python",
   "name": "python",
   "nbconvert_exporter": "python",
   "pygments_lexer": "ipython3",
   "version": "3.10.12"
  }
 },
 "nbformat": 4,
 "nbformat_minor": 2
}
